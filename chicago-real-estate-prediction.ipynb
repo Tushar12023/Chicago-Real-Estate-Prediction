{
 "cells": [
  {
   "cell_type": "code",
   "execution_count": 1,
   "id": "1f3f3928",
   "metadata": {
    "_cell_guid": "b1076dfc-b9ad-4769-8c92-a6c4dae69d19",
    "_uuid": "8f2839f25d086af736a60e9eeb907d3b93b6e0e5",
    "execution": {
     "iopub.execute_input": "2025-01-28T17:08:51.781278Z",
     "iopub.status.busy": "2025-01-28T17:08:51.780910Z",
     "iopub.status.idle": "2025-01-28T17:08:54.556767Z",
     "shell.execute_reply": "2025-01-28T17:08:54.555577Z"
    },
    "papermill": {
     "duration": 2.791469,
     "end_time": "2025-01-28T17:08:54.558572",
     "exception": false,
     "start_time": "2025-01-28T17:08:51.767103",
     "status": "completed"
    },
    "tags": []
   },
   "outputs": [
    {
     "name": "stdout",
     "output_type": "stream",
     "text": [
      "/kaggle/input/real-estate-data-chicago-2024/real_estate_data_chicago.csv\n"
     ]
    }
   ],
   "source": [
    "# This Python 3 environment comes with many helpful analytics libraries installed\n",
    "# It is defined by the kaggle/python Docker image: https://github.com/kaggle/docker-python\n",
    "# For example, here's several helpful packages to load\n",
    "\n",
    "import numpy as np # linear algebra\n",
    "import pandas as pd # data processing, CSV file I/O (e.g. pd.read_csv)\n",
    "from sklearn.impute import KNNImputer\n",
    "from sklearn.preprocessing import LabelEncoder\n",
    "import matplotlib.pyplot as plt\n",
    "import seaborn as sns\n",
    "from sklearn.model_selection import train_test_split\n",
    "\n",
    "# Input data files are available in the read-only \"../input/\" directory\n",
    "# For example, running this (by clicking run or pressing Shift+Enter) will list all files under the input directory\n",
    "\n",
    "import os\n",
    "for dirname, _, filenames in os.walk('/kaggle/input'):\n",
    "    for filename in filenames:\n",
    "        print(os.path.join(dirname, filename))\n",
    "\n",
    "# You can write up to 20GB to the current directory (/kaggle/working/) that gets preserved as output when you create a version using \"Save & Run All\" \n",
    "# You can also write temporary files to /kaggle/temp/, but they won't be saved outside of the current session"
   ]
  },
  {
   "cell_type": "code",
   "execution_count": 2,
   "id": "66d154af",
   "metadata": {
    "execution": {
     "iopub.execute_input": "2025-01-28T17:08:54.576273Z",
     "iopub.status.busy": "2025-01-28T17:08:54.575752Z",
     "iopub.status.idle": "2025-01-28T17:08:54.649337Z",
     "shell.execute_reply": "2025-01-28T17:08:54.648513Z"
    },
    "papermill": {
     "duration": 0.083999,
     "end_time": "2025-01-28T17:08:54.651233",
     "exception": false,
     "start_time": "2025-01-28T17:08:54.567234",
     "status": "completed"
    },
    "tags": []
   },
   "outputs": [],
   "source": [
    "df= pd.read_csv(\"/kaggle/input/real-estate-data-chicago-2024/real_estate_data_chicago.csv\")"
   ]
  },
  {
   "cell_type": "code",
   "execution_count": 3,
   "id": "87be3f11",
   "metadata": {
    "execution": {
     "iopub.execute_input": "2025-01-28T17:08:54.667158Z",
     "iopub.status.busy": "2025-01-28T17:08:54.666810Z",
     "iopub.status.idle": "2025-01-28T17:08:54.694816Z",
     "shell.execute_reply": "2025-01-28T17:08:54.693758Z"
    },
    "papermill": {
     "duration": 0.037452,
     "end_time": "2025-01-28T17:08:54.696354",
     "exception": false,
     "start_time": "2025-01-28T17:08:54.658902",
     "status": "completed"
    },
    "tags": []
   },
   "outputs": [
    {
     "name": "stdout",
     "output_type": "stream",
     "text": [
      "<class 'pandas.core.frame.DataFrame'>\n",
      "RangeIndex: 2000 entries, 0 to 1999\n",
      "Data columns (total 15 columns):\n",
      " #   Column         Non-Null Count  Dtype  \n",
      "---  ------         --------------  -----  \n",
      " 0   type           2000 non-null   object \n",
      " 1   text           1992 non-null   object \n",
      " 2   year_built     1790 non-null   float64\n",
      " 3   beds           1940 non-null   float64\n",
      " 4   baths          1999 non-null   float64\n",
      " 5   baths_full     1937 non-null   float64\n",
      " 6   baths_half     592 non-null    float64\n",
      " 7   garage         1282 non-null   float64\n",
      " 8   lot_sqft       992 non-null    float64\n",
      " 9   sqft           1447 non-null   float64\n",
      " 10  stories        1620 non-null   float64\n",
      " 11  lastSoldPrice  1415 non-null   float64\n",
      " 12  soldOn         1415 non-null   object \n",
      " 13  listPrice      1994 non-null   float64\n",
      " 14  status         2000 non-null   object \n",
      "dtypes: float64(11), object(4)\n",
      "memory usage: 234.5+ KB\n"
     ]
    }
   ],
   "source": [
    "df.info()"
   ]
  },
  {
   "cell_type": "code",
   "execution_count": 4,
   "id": "04121d82",
   "metadata": {
    "execution": {
     "iopub.execute_input": "2025-01-28T17:08:54.712291Z",
     "iopub.status.busy": "2025-01-28T17:08:54.711993Z",
     "iopub.status.idle": "2025-01-28T17:08:54.740005Z",
     "shell.execute_reply": "2025-01-28T17:08:54.738939Z"
    },
    "papermill": {
     "duration": 0.037741,
     "end_time": "2025-01-28T17:08:54.741637",
     "exception": false,
     "start_time": "2025-01-28T17:08:54.703896",
     "status": "completed"
    },
    "tags": []
   },
   "outputs": [
    {
     "name": "stderr",
     "output_type": "stream",
     "text": [
      "/usr/local/lib/python3.10/dist-packages/pandas/io/formats/format.py:1458: RuntimeWarning: invalid value encountered in greater\n",
      "  has_large_values = (abs_vals > 1e6).any()\n",
      "/usr/local/lib/python3.10/dist-packages/pandas/io/formats/format.py:1459: RuntimeWarning: invalid value encountered in less\n",
      "  has_small_values = ((abs_vals < 10 ** (-self.digits)) & (abs_vals > 0)).any()\n",
      "/usr/local/lib/python3.10/dist-packages/pandas/io/formats/format.py:1459: RuntimeWarning: invalid value encountered in greater\n",
      "  has_small_values = ((abs_vals < 10 ** (-self.digits)) & (abs_vals > 0)).any()\n"
     ]
    },
    {
     "data": {
      "text/html": [
       "<div>\n",
       "<style scoped>\n",
       "    .dataframe tbody tr th:only-of-type {\n",
       "        vertical-align: middle;\n",
       "    }\n",
       "\n",
       "    .dataframe tbody tr th {\n",
       "        vertical-align: top;\n",
       "    }\n",
       "\n",
       "    .dataframe thead th {\n",
       "        text-align: right;\n",
       "    }\n",
       "</style>\n",
       "<table border=\"1\" class=\"dataframe\">\n",
       "  <thead>\n",
       "    <tr style=\"text-align: right;\">\n",
       "      <th></th>\n",
       "      <th>type</th>\n",
       "      <th>text</th>\n",
       "      <th>year_built</th>\n",
       "      <th>beds</th>\n",
       "      <th>baths</th>\n",
       "      <th>baths_full</th>\n",
       "      <th>baths_half</th>\n",
       "      <th>garage</th>\n",
       "      <th>lot_sqft</th>\n",
       "      <th>sqft</th>\n",
       "      <th>stories</th>\n",
       "      <th>lastSoldPrice</th>\n",
       "      <th>soldOn</th>\n",
       "      <th>listPrice</th>\n",
       "      <th>status</th>\n",
       "    </tr>\n",
       "  </thead>\n",
       "  <tbody>\n",
       "    <tr>\n",
       "      <th>0</th>\n",
       "      <td>single_family</td>\n",
       "      <td>Come check out this amazing, move-in ready, 5 ...</td>\n",
       "      <td>1951.0</td>\n",
       "      <td>4.0</td>\n",
       "      <td>4.0</td>\n",
       "      <td>3.0</td>\n",
       "      <td>1.0</td>\n",
       "      <td>1.0</td>\n",
       "      <td>5615.0</td>\n",
       "      <td>3000.0</td>\n",
       "      <td>2.0</td>\n",
       "      <td>NaN</td>\n",
       "      <td>NaN</td>\n",
       "      <td>750000.0</td>\n",
       "      <td>for_sale</td>\n",
       "    </tr>\n",
       "    <tr>\n",
       "      <th>1</th>\n",
       "      <td>single_family</td>\n",
       "      <td>Move in ready 2 story Mount Greenwood home on ...</td>\n",
       "      <td>1922.0</td>\n",
       "      <td>4.0</td>\n",
       "      <td>3.0</td>\n",
       "      <td>2.0</td>\n",
       "      <td>1.0</td>\n",
       "      <td>2.0</td>\n",
       "      <td>6566.0</td>\n",
       "      <td>2900.0</td>\n",
       "      <td>2.0</td>\n",
       "      <td>105000.0</td>\n",
       "      <td>1991-04-16</td>\n",
       "      <td>499900.0</td>\n",
       "      <td>for_sale</td>\n",
       "    </tr>\n",
       "    <tr>\n",
       "      <th>2</th>\n",
       "      <td>single_family</td>\n",
       "      <td>Investor Special MONEY MAKING Gem. This is you...</td>\n",
       "      <td>1947.0</td>\n",
       "      <td>4.0</td>\n",
       "      <td>2.0</td>\n",
       "      <td>2.0</td>\n",
       "      <td>NaN</td>\n",
       "      <td>3.0</td>\n",
       "      <td>5375.0</td>\n",
       "      <td>1170.0</td>\n",
       "      <td>2.0</td>\n",
       "      <td>60000.0</td>\n",
       "      <td>2019-10-28</td>\n",
       "      <td>325600.0</td>\n",
       "      <td>for_sale</td>\n",
       "    </tr>\n",
       "    <tr>\n",
       "      <th>3</th>\n",
       "      <td>single_family</td>\n",
       "      <td>Renovated Brick 1.5 story house with finished ...</td>\n",
       "      <td>1945.0</td>\n",
       "      <td>4.0</td>\n",
       "      <td>3.0</td>\n",
       "      <td>2.0</td>\n",
       "      <td>1.0</td>\n",
       "      <td>2.0</td>\n",
       "      <td>6138.0</td>\n",
       "      <td>2511.0</td>\n",
       "      <td>2.0</td>\n",
       "      <td>170000.0</td>\n",
       "      <td>1996-05-30</td>\n",
       "      <td>620000.0</td>\n",
       "      <td>for_sale</td>\n",
       "    </tr>\n",
       "    <tr>\n",
       "      <th>4</th>\n",
       "      <td>single_family</td>\n",
       "      <td>This almost 3000sq foot home was thoughtfully ...</td>\n",
       "      <td>1907.0</td>\n",
       "      <td>4.0</td>\n",
       "      <td>4.0</td>\n",
       "      <td>2.0</td>\n",
       "      <td>2.0</td>\n",
       "      <td>2.0</td>\n",
       "      <td>8476.0</td>\n",
       "      <td>2870.0</td>\n",
       "      <td>3.0</td>\n",
       "      <td>NaN</td>\n",
       "      <td>NaN</td>\n",
       "      <td>850000.0</td>\n",
       "      <td>for_sale</td>\n",
       "    </tr>\n",
       "  </tbody>\n",
       "</table>\n",
       "</div>"
      ],
      "text/plain": [
       "            type                                               text  \\\n",
       "0  single_family  Come check out this amazing, move-in ready, 5 ...   \n",
       "1  single_family  Move in ready 2 story Mount Greenwood home on ...   \n",
       "2  single_family  Investor Special MONEY MAKING Gem. This is you...   \n",
       "3  single_family  Renovated Brick 1.5 story house with finished ...   \n",
       "4  single_family  This almost 3000sq foot home was thoughtfully ...   \n",
       "\n",
       "   year_built  beds  baths  baths_full  baths_half  garage  lot_sqft    sqft  \\\n",
       "0      1951.0   4.0    4.0         3.0         1.0     1.0    5615.0  3000.0   \n",
       "1      1922.0   4.0    3.0         2.0         1.0     2.0    6566.0  2900.0   \n",
       "2      1947.0   4.0    2.0         2.0         NaN     3.0    5375.0  1170.0   \n",
       "3      1945.0   4.0    3.0         2.0         1.0     2.0    6138.0  2511.0   \n",
       "4      1907.0   4.0    4.0         2.0         2.0     2.0    8476.0  2870.0   \n",
       "\n",
       "   stories  lastSoldPrice      soldOn  listPrice    status  \n",
       "0      2.0            NaN         NaN   750000.0  for_sale  \n",
       "1      2.0       105000.0  1991-04-16   499900.0  for_sale  \n",
       "2      2.0        60000.0  2019-10-28   325600.0  for_sale  \n",
       "3      2.0       170000.0  1996-05-30   620000.0  for_sale  \n",
       "4      3.0            NaN         NaN   850000.0  for_sale  "
      ]
     },
     "execution_count": 4,
     "metadata": {},
     "output_type": "execute_result"
    }
   ],
   "source": [
    "df.head()"
   ]
  },
  {
   "cell_type": "code",
   "execution_count": 5,
   "id": "5bc4e8cd",
   "metadata": {
    "execution": {
     "iopub.execute_input": "2025-01-28T17:08:54.758077Z",
     "iopub.status.busy": "2025-01-28T17:08:54.757767Z",
     "iopub.status.idle": "2025-01-28T17:08:54.791922Z",
     "shell.execute_reply": "2025-01-28T17:08:54.790922Z"
    },
    "papermill": {
     "duration": 0.044028,
     "end_time": "2025-01-28T17:08:54.793392",
     "exception": false,
     "start_time": "2025-01-28T17:08:54.749364",
     "status": "completed"
    },
    "tags": []
   },
   "outputs": [
    {
     "data": {
      "text/html": [
       "<div>\n",
       "<style scoped>\n",
       "    .dataframe tbody tr th:only-of-type {\n",
       "        vertical-align: middle;\n",
       "    }\n",
       "\n",
       "    .dataframe tbody tr th {\n",
       "        vertical-align: top;\n",
       "    }\n",
       "\n",
       "    .dataframe thead th {\n",
       "        text-align: right;\n",
       "    }\n",
       "</style>\n",
       "<table border=\"1\" class=\"dataframe\">\n",
       "  <thead>\n",
       "    <tr style=\"text-align: right;\">\n",
       "      <th></th>\n",
       "      <th>year_built</th>\n",
       "      <th>beds</th>\n",
       "      <th>baths</th>\n",
       "      <th>baths_full</th>\n",
       "      <th>baths_half</th>\n",
       "      <th>garage</th>\n",
       "      <th>lot_sqft</th>\n",
       "      <th>sqft</th>\n",
       "      <th>stories</th>\n",
       "      <th>lastSoldPrice</th>\n",
       "      <th>listPrice</th>\n",
       "    </tr>\n",
       "  </thead>\n",
       "  <tbody>\n",
       "    <tr>\n",
       "      <th>count</th>\n",
       "      <td>1790.000000</td>\n",
       "      <td>1940.00000</td>\n",
       "      <td>1999.00000</td>\n",
       "      <td>1937.000000</td>\n",
       "      <td>592.000000</td>\n",
       "      <td>1282.000000</td>\n",
       "      <td>9.920000e+02</td>\n",
       "      <td>1447.000000</td>\n",
       "      <td>1620.000000</td>\n",
       "      <td>1.415000e+03</td>\n",
       "      <td>1.994000e+03</td>\n",
       "    </tr>\n",
       "    <tr>\n",
       "      <th>mean</th>\n",
       "      <td>1946.050838</td>\n",
       "      <td>3.28866</td>\n",
       "      <td>2.43972</td>\n",
       "      <td>2.155911</td>\n",
       "      <td>1.189189</td>\n",
       "      <td>2.131825</td>\n",
       "      <td>7.156209e+03</td>\n",
       "      <td>2069.910159</td>\n",
       "      <td>7.183951</td>\n",
       "      <td>3.685186e+05</td>\n",
       "      <td>6.012279e+05</td>\n",
       "    </tr>\n",
       "    <tr>\n",
       "      <th>std</th>\n",
       "      <td>38.985904</td>\n",
       "      <td>1.75855</td>\n",
       "      <td>1.45649</td>\n",
       "      <td>1.106637</td>\n",
       "      <td>0.553119</td>\n",
       "      <td>11.367288</td>\n",
       "      <td>6.861154e+04</td>\n",
       "      <td>1691.518319</td>\n",
       "      <td>13.036822</td>\n",
       "      <td>6.156896e+05</td>\n",
       "      <td>1.202400e+06</td>\n",
       "    </tr>\n",
       "    <tr>\n",
       "      <th>min</th>\n",
       "      <td>1856.000000</td>\n",
       "      <td>0.00000</td>\n",
       "      <td>0.00000</td>\n",
       "      <td>1.000000</td>\n",
       "      <td>1.000000</td>\n",
       "      <td>1.000000</td>\n",
       "      <td>1.000000e+00</td>\n",
       "      <td>372.000000</td>\n",
       "      <td>1.000000</td>\n",
       "      <td>6.000000e+02</td>\n",
       "      <td>1.500000e+02</td>\n",
       "    </tr>\n",
       "    <tr>\n",
       "      <th>25%</th>\n",
       "      <td>1916.000000</td>\n",
       "      <td>2.00000</td>\n",
       "      <td>2.00000</td>\n",
       "      <td>1.000000</td>\n",
       "      <td>1.000000</td>\n",
       "      <td>1.000000</td>\n",
       "      <td>3.125000e+03</td>\n",
       "      <td>1170.000000</td>\n",
       "      <td>2.000000</td>\n",
       "      <td>1.117500e+05</td>\n",
       "      <td>2.250000e+05</td>\n",
       "    </tr>\n",
       "    <tr>\n",
       "      <th>50%</th>\n",
       "      <td>1943.000000</td>\n",
       "      <td>3.00000</td>\n",
       "      <td>2.00000</td>\n",
       "      <td>2.000000</td>\n",
       "      <td>1.000000</td>\n",
       "      <td>2.000000</td>\n",
       "      <td>3.750000e+03</td>\n",
       "      <td>1550.000000</td>\n",
       "      <td>2.000000</td>\n",
       "      <td>2.180000e+05</td>\n",
       "      <td>3.499000e+05</td>\n",
       "    </tr>\n",
       "    <tr>\n",
       "      <th>75%</th>\n",
       "      <td>1970.750000</td>\n",
       "      <td>4.00000</td>\n",
       "      <td>3.00000</td>\n",
       "      <td>3.000000</td>\n",
       "      <td>1.000000</td>\n",
       "      <td>2.000000</td>\n",
       "      <td>5.013000e+03</td>\n",
       "      <td>2355.000000</td>\n",
       "      <td>4.000000</td>\n",
       "      <td>3.950000e+05</td>\n",
       "      <td>5.750000e+05</td>\n",
       "    </tr>\n",
       "    <tr>\n",
       "      <th>max</th>\n",
       "      <td>2024.000000</td>\n",
       "      <td>21.00000</td>\n",
       "      <td>13.00000</td>\n",
       "      <td>8.000000</td>\n",
       "      <td>5.000000</td>\n",
       "      <td>400.000000</td>\n",
       "      <td>2.156000e+06</td>\n",
       "      <td>25000.000000</td>\n",
       "      <td>119.000000</td>\n",
       "      <td>7.500000e+06</td>\n",
       "      <td>2.350000e+07</td>\n",
       "    </tr>\n",
       "  </tbody>\n",
       "</table>\n",
       "</div>"
      ],
      "text/plain": [
       "        year_built        beds       baths   baths_full  baths_half  \\\n",
       "count  1790.000000  1940.00000  1999.00000  1937.000000  592.000000   \n",
       "mean   1946.050838     3.28866     2.43972     2.155911    1.189189   \n",
       "std      38.985904     1.75855     1.45649     1.106637    0.553119   \n",
       "min    1856.000000     0.00000     0.00000     1.000000    1.000000   \n",
       "25%    1916.000000     2.00000     2.00000     1.000000    1.000000   \n",
       "50%    1943.000000     3.00000     2.00000     2.000000    1.000000   \n",
       "75%    1970.750000     4.00000     3.00000     3.000000    1.000000   \n",
       "max    2024.000000    21.00000    13.00000     8.000000    5.000000   \n",
       "\n",
       "            garage      lot_sqft          sqft      stories  lastSoldPrice  \\\n",
       "count  1282.000000  9.920000e+02   1447.000000  1620.000000   1.415000e+03   \n",
       "mean      2.131825  7.156209e+03   2069.910159     7.183951   3.685186e+05   \n",
       "std      11.367288  6.861154e+04   1691.518319    13.036822   6.156896e+05   \n",
       "min       1.000000  1.000000e+00    372.000000     1.000000   6.000000e+02   \n",
       "25%       1.000000  3.125000e+03   1170.000000     2.000000   1.117500e+05   \n",
       "50%       2.000000  3.750000e+03   1550.000000     2.000000   2.180000e+05   \n",
       "75%       2.000000  5.013000e+03   2355.000000     4.000000   3.950000e+05   \n",
       "max     400.000000  2.156000e+06  25000.000000   119.000000   7.500000e+06   \n",
       "\n",
       "          listPrice  \n",
       "count  1.994000e+03  \n",
       "mean   6.012279e+05  \n",
       "std    1.202400e+06  \n",
       "min    1.500000e+02  \n",
       "25%    2.250000e+05  \n",
       "50%    3.499000e+05  \n",
       "75%    5.750000e+05  \n",
       "max    2.350000e+07  "
      ]
     },
     "execution_count": 5,
     "metadata": {},
     "output_type": "execute_result"
    }
   ],
   "source": [
    "df.describe()"
   ]
  },
  {
   "cell_type": "code",
   "execution_count": 6,
   "id": "a0f62874",
   "metadata": {
    "execution": {
     "iopub.execute_input": "2025-01-28T17:08:54.810271Z",
     "iopub.status.busy": "2025-01-28T17:08:54.809958Z",
     "iopub.status.idle": "2025-01-28T17:08:54.817679Z",
     "shell.execute_reply": "2025-01-28T17:08:54.816873Z"
    },
    "papermill": {
     "duration": 0.01767,
     "end_time": "2025-01-28T17:08:54.819063",
     "exception": false,
     "start_time": "2025-01-28T17:08:54.801393",
     "status": "completed"
    },
    "tags": []
   },
   "outputs": [
    {
     "data": {
      "text/plain": [
       "type                0\n",
       "text                8\n",
       "year_built        210\n",
       "beds               60\n",
       "baths               1\n",
       "baths_full         63\n",
       "baths_half       1408\n",
       "garage            718\n",
       "lot_sqft         1008\n",
       "sqft              553\n",
       "stories           380\n",
       "lastSoldPrice     585\n",
       "soldOn            585\n",
       "listPrice           6\n",
       "status              0\n",
       "dtype: int64"
      ]
     },
     "execution_count": 6,
     "metadata": {},
     "output_type": "execute_result"
    }
   ],
   "source": [
    "df.isnull().sum()"
   ]
  },
  {
   "cell_type": "markdown",
   "id": "8fc3b23f",
   "metadata": {
    "papermill": {
     "duration": 0.007293,
     "end_time": "2025-01-28T17:08:54.833863",
     "exception": false,
     "start_time": "2025-01-28T17:08:54.826570",
     "status": "completed"
    },
    "tags": []
   },
   "source": [
    "# Data cleaning"
   ]
  },
  {
   "cell_type": "code",
   "execution_count": 7,
   "id": "82ba8554",
   "metadata": {
    "execution": {
     "iopub.execute_input": "2025-01-28T17:08:54.850140Z",
     "iopub.status.busy": "2025-01-28T17:08:54.849789Z",
     "iopub.status.idle": "2025-01-28T17:08:54.862693Z",
     "shell.execute_reply": "2025-01-28T17:08:54.861874Z"
    },
    "papermill": {
     "duration": 0.022763,
     "end_time": "2025-01-28T17:08:54.864169",
     "exception": false,
     "start_time": "2025-01-28T17:08:54.841406",
     "status": "completed"
    },
    "tags": []
   },
   "outputs": [
    {
     "data": {
      "text/plain": [
       "type         7\n",
       "text      1981\n",
       "soldOn    1253\n",
       "status       2\n",
       "dtype: int64"
      ]
     },
     "execution_count": 7,
     "metadata": {},
     "output_type": "execute_result"
    }
   ],
   "source": [
    "numerical_cols = df.select_dtypes(exclude=\"object\").columns\n",
    "categorical_cols = df.select_dtypes(include=\"object\").columns\n",
    "df[categorical_cols].nunique()"
   ]
  },
  {
   "cell_type": "code",
   "execution_count": 8,
   "id": "2b2667f1",
   "metadata": {
    "execution": {
     "iopub.execute_input": "2025-01-28T17:08:54.881382Z",
     "iopub.status.busy": "2025-01-28T17:08:54.881068Z",
     "iopub.status.idle": "2025-01-28T17:08:54.887068Z",
     "shell.execute_reply": "2025-01-28T17:08:54.886227Z"
    },
    "papermill": {
     "duration": 0.016178,
     "end_time": "2025-01-28T17:08:54.888514",
     "exception": false,
     "start_time": "2025-01-28T17:08:54.872336",
     "status": "completed"
    },
    "tags": []
   },
   "outputs": [],
   "source": [
    "df=df.drop('text',axis=1)"
   ]
  },
  {
   "cell_type": "markdown",
   "id": "f8240a10",
   "metadata": {
    "papermill": {
     "duration": 0.007567,
     "end_time": "2025-01-28T17:08:54.904155",
     "exception": false,
     "start_time": "2025-01-28T17:08:54.896588",
     "status": "completed"
    },
    "tags": []
   },
   "source": [
    "## Converting to DateTime Objects and extracting Year,day,month,day information"
   ]
  },
  {
   "cell_type": "code",
   "execution_count": 9,
   "id": "5dd3bfa9",
   "metadata": {
    "execution": {
     "iopub.execute_input": "2025-01-28T17:08:54.921056Z",
     "iopub.status.busy": "2025-01-28T17:08:54.920736Z",
     "iopub.status.idle": "2025-01-28T17:08:54.929154Z",
     "shell.execute_reply": "2025-01-28T17:08:54.928280Z"
    },
    "papermill": {
     "duration": 0.018781,
     "end_time": "2025-01-28T17:08:54.930767",
     "exception": false,
     "start_time": "2025-01-28T17:08:54.911986",
     "status": "completed"
    },
    "tags": []
   },
   "outputs": [],
   "source": [
    "# Converting to datetime objects\n",
    "df['soldOn'] = pd.to_datetime(df['soldOn'], errors='coerce')"
   ]
  },
  {
   "cell_type": "code",
   "execution_count": 10,
   "id": "0eadfb38",
   "metadata": {
    "execution": {
     "iopub.execute_input": "2025-01-28T17:08:54.948370Z",
     "iopub.status.busy": "2025-01-28T17:08:54.948029Z",
     "iopub.status.idle": "2025-01-28T17:08:54.954065Z",
     "shell.execute_reply": "2025-01-28T17:08:54.953057Z"
    },
    "papermill": {
     "duration": 0.016641,
     "end_time": "2025-01-28T17:08:54.955509",
     "exception": false,
     "start_time": "2025-01-28T17:08:54.938868",
     "status": "completed"
    },
    "tags": []
   },
   "outputs": [
    {
     "data": {
      "text/plain": [
       "585"
      ]
     },
     "execution_count": 10,
     "metadata": {},
     "output_type": "execute_result"
    }
   ],
   "source": [
    "#Checking if there are null values\n",
    "df['soldOn'].isnull().sum()"
   ]
  },
  {
   "cell_type": "markdown",
   "id": "610d58f8",
   "metadata": {
    "papermill": {
     "duration": 0.007566,
     "end_time": "2025-01-28T17:08:54.971159",
     "exception": false,
     "start_time": "2025-01-28T17:08:54.963593",
     "status": "completed"
    },
    "tags": []
   },
   "source": [
    "### Add col for not sold yet"
   ]
  },
  {
   "cell_type": "code",
   "execution_count": 11,
   "id": "e314bf39",
   "metadata": {
    "execution": {
     "iopub.execute_input": "2025-01-28T17:08:54.989565Z",
     "iopub.status.busy": "2025-01-28T17:08:54.989160Z",
     "iopub.status.idle": "2025-01-28T17:08:54.994519Z",
     "shell.execute_reply": "2025-01-28T17:08:54.993512Z"
    },
    "papermill": {
     "duration": 0.017013,
     "end_time": "2025-01-28T17:08:54.996054",
     "exception": false,
     "start_time": "2025-01-28T17:08:54.979041",
     "status": "completed"
    },
    "tags": []
   },
   "outputs": [
    {
     "name": "stderr",
     "output_type": "stream",
     "text": [
      "<ipython-input-11-d2c0f617a30d>:2: FutureWarning: A value is trying to be set on a copy of a DataFrame or Series through chained assignment using an inplace method.\n",
      "The behavior will change in pandas 3.0. This inplace method will never work because the intermediate object on which we are setting values always behaves as a copy.\n",
      "\n",
      "For example, when doing 'df[col].method(value, inplace=True)', try using 'df.method({col: value}, inplace=True)' or df[col] = df[col].method(value) instead, to perform the operation inplace on the original object.\n",
      "\n",
      "\n",
      "  df['soldOn'].fillna(pd.Timestamp('1970-01-01'), inplace=True)\n"
     ]
    }
   ],
   "source": [
    "#Assuming that these houses have not been sold \n",
    "df['soldOn'].fillna(pd.Timestamp('1970-01-01'), inplace=True)"
   ]
  },
  {
   "cell_type": "code",
   "execution_count": 12,
   "id": "1d5d9021",
   "metadata": {
    "execution": {
     "iopub.execute_input": "2025-01-28T17:08:55.013256Z",
     "iopub.status.busy": "2025-01-28T17:08:55.012942Z",
     "iopub.status.idle": "2025-01-28T17:08:55.020738Z",
     "shell.execute_reply": "2025-01-28T17:08:55.019981Z"
    },
    "papermill": {
     "duration": 0.018059,
     "end_time": "2025-01-28T17:08:55.022192",
     "exception": false,
     "start_time": "2025-01-28T17:08:55.004133",
     "status": "completed"
    },
    "tags": []
   },
   "outputs": [],
   "source": [
    "# Extracting year, month, day and weekday\n",
    "df['soldOn_year'] = df['soldOn'].dt.year\n",
    "df['soldOn_month'] = df['soldOn'].dt.month\n",
    "df['soldOn_day'] = df['soldOn'].dt.day\n",
    "df['soldOn_weekday'] = df['soldOn'].dt.weekday"
   ]
  },
  {
   "cell_type": "code",
   "execution_count": 13,
   "id": "6f6edf53",
   "metadata": {
    "execution": {
     "iopub.execute_input": "2025-01-28T17:08:55.040315Z",
     "iopub.status.busy": "2025-01-28T17:08:55.039985Z",
     "iopub.status.idle": "2025-01-28T17:08:55.047413Z",
     "shell.execute_reply": "2025-01-28T17:08:55.046594Z"
    },
    "papermill": {
     "duration": 0.018501,
     "end_time": "2025-01-28T17:08:55.049146",
     "exception": false,
     "start_time": "2025-01-28T17:08:55.030645",
     "status": "completed"
    },
    "tags": []
   },
   "outputs": [],
   "source": [
    "df=df.drop('soldOn',axis=1)"
   ]
  },
  {
   "cell_type": "markdown",
   "id": "217e2750",
   "metadata": {
    "papermill": {
     "duration": 0.007792,
     "end_time": "2025-01-28T17:08:55.065053",
     "exception": false,
     "start_time": "2025-01-28T17:08:55.057261",
     "status": "completed"
    },
    "tags": []
   },
   "source": [
    "## Converting Categorical data into numerical data"
   ]
  },
  {
   "cell_type": "code",
   "execution_count": 14,
   "id": "6fe53363",
   "metadata": {
    "execution": {
     "iopub.execute_input": "2025-01-28T17:08:55.082403Z",
     "iopub.status.busy": "2025-01-28T17:08:55.082042Z",
     "iopub.status.idle": "2025-01-28T17:08:55.089423Z",
     "shell.execute_reply": "2025-01-28T17:08:55.088466Z"
    },
    "papermill": {
     "duration": 0.018036,
     "end_time": "2025-01-28T17:08:55.091097",
     "exception": false,
     "start_time": "2025-01-28T17:08:55.073061",
     "status": "completed"
    },
    "tags": []
   },
   "outputs": [
    {
     "data": {
      "text/plain": [
       "status\n",
       "for_sale          1999\n",
       "ready_to_build       1\n",
       "Name: count, dtype: int64"
      ]
     },
     "execution_count": 14,
     "metadata": {},
     "output_type": "execute_result"
    }
   ],
   "source": [
    "df['status'].value_counts()"
   ]
  },
  {
   "cell_type": "code",
   "execution_count": 15,
   "id": "17eb8d77",
   "metadata": {
    "execution": {
     "iopub.execute_input": "2025-01-28T17:08:55.108893Z",
     "iopub.status.busy": "2025-01-28T17:08:55.108587Z",
     "iopub.status.idle": "2025-01-28T17:08:55.113775Z",
     "shell.execute_reply": "2025-01-28T17:08:55.112929Z"
    },
    "papermill": {
     "duration": 0.015901,
     "end_time": "2025-01-28T17:08:55.115166",
     "exception": false,
     "start_time": "2025-01-28T17:08:55.099265",
     "status": "completed"
    },
    "tags": []
   },
   "outputs": [],
   "source": [
    "map_dict={'ready_to_build' : 0,\n",
    "         'for_sale' : 1}\n",
    "df['status'] = df['status'].map(map_dict)"
   ]
  },
  {
   "cell_type": "code",
   "execution_count": 16,
   "id": "7200d128",
   "metadata": {
    "execution": {
     "iopub.execute_input": "2025-01-28T17:08:55.132923Z",
     "iopub.status.busy": "2025-01-28T17:08:55.132610Z",
     "iopub.status.idle": "2025-01-28T17:08:55.140855Z",
     "shell.execute_reply": "2025-01-28T17:08:55.139988Z"
    },
    "papermill": {
     "duration": 0.018875,
     "end_time": "2025-01-28T17:08:55.142348",
     "exception": false,
     "start_time": "2025-01-28T17:08:55.123473",
     "status": "completed"
    },
    "tags": []
   },
   "outputs": [
    {
     "data": {
      "text/plain": [
       "status\n",
       "1    1999\n",
       "0       1\n",
       "Name: count, dtype: int64"
      ]
     },
     "execution_count": 16,
     "metadata": {},
     "output_type": "execute_result"
    }
   ],
   "source": [
    "df['status'].value_counts()"
   ]
  },
  {
   "cell_type": "code",
   "execution_count": 17,
   "id": "ee73f267",
   "metadata": {
    "execution": {
     "iopub.execute_input": "2025-01-28T17:08:55.159593Z",
     "iopub.status.busy": "2025-01-28T17:08:55.159246Z",
     "iopub.status.idle": "2025-01-28T17:08:55.167049Z",
     "shell.execute_reply": "2025-01-28T17:08:55.166089Z"
    },
    "papermill": {
     "duration": 0.017844,
     "end_time": "2025-01-28T17:08:55.168387",
     "exception": false,
     "start_time": "2025-01-28T17:08:55.150543",
     "status": "completed"
    },
    "tags": []
   },
   "outputs": [
    {
     "data": {
      "text/plain": [
       "type\n",
       "5    931\n",
       "1    716\n",
       "4    212\n",
       "6     78\n",
       "2     60\n",
       "3      2\n",
       "0      1\n",
       "Name: count, dtype: int64"
      ]
     },
     "execution_count": 17,
     "metadata": {},
     "output_type": "execute_result"
    }
   ],
   "source": [
    "le= LabelEncoder()\n",
    "df['type']= le.fit_transform(df['type'])\n",
    "df['type'].value_counts()"
   ]
  },
  {
   "cell_type": "code",
   "execution_count": 18,
   "id": "bf9f6781",
   "metadata": {
    "execution": {
     "iopub.execute_input": "2025-01-28T17:08:55.185948Z",
     "iopub.status.busy": "2025-01-28T17:08:55.185592Z",
     "iopub.status.idle": "2025-01-28T17:08:55.191520Z",
     "shell.execute_reply": "2025-01-28T17:08:55.190536Z"
    },
    "papermill": {
     "duration": 0.016436,
     "end_time": "2025-01-28T17:08:55.193056",
     "exception": false,
     "start_time": "2025-01-28T17:08:55.176620",
     "status": "completed"
    },
    "tags": []
   },
   "outputs": [
    {
     "data": {
      "text/plain": [
       "Index([], dtype='object')"
      ]
     },
     "execution_count": 18,
     "metadata": {},
     "output_type": "execute_result"
    }
   ],
   "source": [
    "#Checking if there are any Categorical columns still\n",
    "df.select_dtypes(include=\"object\").columns"
   ]
  },
  {
   "cell_type": "markdown",
   "id": "599ba943",
   "metadata": {
    "papermill": {
     "duration": 0.008,
     "end_time": "2025-01-28T17:08:55.209398",
     "exception": false,
     "start_time": "2025-01-28T17:08:55.201398",
     "status": "completed"
    },
    "tags": []
   },
   "source": [
    "## Missing Values"
   ]
  },
  {
   "cell_type": "code",
   "execution_count": 19,
   "id": "3ad545b2",
   "metadata": {
    "execution": {
     "iopub.execute_input": "2025-01-28T17:08:55.227161Z",
     "iopub.status.busy": "2025-01-28T17:08:55.226848Z",
     "iopub.status.idle": "2025-01-28T17:08:55.239451Z",
     "shell.execute_reply": "2025-01-28T17:08:55.238569Z"
    },
    "papermill": {
     "duration": 0.02335,
     "end_time": "2025-01-28T17:08:55.241018",
     "exception": false,
     "start_time": "2025-01-28T17:08:55.217668",
     "status": "completed"
    },
    "tags": []
   },
   "outputs": [
    {
     "data": {
      "text/html": [
       "<div>\n",
       "<style scoped>\n",
       "    .dataframe tbody tr th:only-of-type {\n",
       "        vertical-align: middle;\n",
       "    }\n",
       "\n",
       "    .dataframe tbody tr th {\n",
       "        vertical-align: top;\n",
       "    }\n",
       "\n",
       "    .dataframe thead th {\n",
       "        text-align: right;\n",
       "    }\n",
       "</style>\n",
       "<table border=\"1\" class=\"dataframe\">\n",
       "  <thead>\n",
       "    <tr style=\"text-align: right;\">\n",
       "      <th></th>\n",
       "      <th>Num missing values</th>\n",
       "      <th>Percentage of missing values(%)</th>\n",
       "    </tr>\n",
       "  </thead>\n",
       "  <tbody>\n",
       "    <tr>\n",
       "      <th>type</th>\n",
       "      <td>0</td>\n",
       "      <td>0.00</td>\n",
       "    </tr>\n",
       "    <tr>\n",
       "      <th>year_built</th>\n",
       "      <td>210</td>\n",
       "      <td>10.50</td>\n",
       "    </tr>\n",
       "    <tr>\n",
       "      <th>beds</th>\n",
       "      <td>60</td>\n",
       "      <td>3.00</td>\n",
       "    </tr>\n",
       "    <tr>\n",
       "      <th>baths</th>\n",
       "      <td>1</td>\n",
       "      <td>0.05</td>\n",
       "    </tr>\n",
       "    <tr>\n",
       "      <th>baths_full</th>\n",
       "      <td>63</td>\n",
       "      <td>3.15</td>\n",
       "    </tr>\n",
       "    <tr>\n",
       "      <th>baths_half</th>\n",
       "      <td>1408</td>\n",
       "      <td>70.40</td>\n",
       "    </tr>\n",
       "    <tr>\n",
       "      <th>garage</th>\n",
       "      <td>718</td>\n",
       "      <td>35.90</td>\n",
       "    </tr>\n",
       "    <tr>\n",
       "      <th>lot_sqft</th>\n",
       "      <td>1008</td>\n",
       "      <td>50.40</td>\n",
       "    </tr>\n",
       "    <tr>\n",
       "      <th>sqft</th>\n",
       "      <td>553</td>\n",
       "      <td>27.65</td>\n",
       "    </tr>\n",
       "    <tr>\n",
       "      <th>stories</th>\n",
       "      <td>380</td>\n",
       "      <td>19.00</td>\n",
       "    </tr>\n",
       "    <tr>\n",
       "      <th>lastSoldPrice</th>\n",
       "      <td>585</td>\n",
       "      <td>29.25</td>\n",
       "    </tr>\n",
       "    <tr>\n",
       "      <th>listPrice</th>\n",
       "      <td>6</td>\n",
       "      <td>0.30</td>\n",
       "    </tr>\n",
       "    <tr>\n",
       "      <th>status</th>\n",
       "      <td>0</td>\n",
       "      <td>0.00</td>\n",
       "    </tr>\n",
       "    <tr>\n",
       "      <th>soldOn_year</th>\n",
       "      <td>0</td>\n",
       "      <td>0.00</td>\n",
       "    </tr>\n",
       "    <tr>\n",
       "      <th>soldOn_month</th>\n",
       "      <td>0</td>\n",
       "      <td>0.00</td>\n",
       "    </tr>\n",
       "    <tr>\n",
       "      <th>soldOn_day</th>\n",
       "      <td>0</td>\n",
       "      <td>0.00</td>\n",
       "    </tr>\n",
       "    <tr>\n",
       "      <th>soldOn_weekday</th>\n",
       "      <td>0</td>\n",
       "      <td>0.00</td>\n",
       "    </tr>\n",
       "  </tbody>\n",
       "</table>\n",
       "</div>"
      ],
      "text/plain": [
       "                Num missing values  Percentage of missing values(%)\n",
       "type                             0                             0.00\n",
       "year_built                     210                            10.50\n",
       "beds                            60                             3.00\n",
       "baths                            1                             0.05\n",
       "baths_full                      63                             3.15\n",
       "baths_half                    1408                            70.40\n",
       "garage                         718                            35.90\n",
       "lot_sqft                      1008                            50.40\n",
       "sqft                           553                            27.65\n",
       "stories                        380                            19.00\n",
       "lastSoldPrice                  585                            29.25\n",
       "listPrice                        6                             0.30\n",
       "status                           0                             0.00\n",
       "soldOn_year                      0                             0.00\n",
       "soldOn_month                     0                             0.00\n",
       "soldOn_day                       0                             0.00\n",
       "soldOn_weekday                   0                             0.00"
      ]
     },
     "execution_count": 19,
     "metadata": {},
     "output_type": "execute_result"
    }
   ],
   "source": [
    "missing_df= df.isnull().sum().to_frame().rename(columns={0:\"Num missing values\"})\n",
    "missing_df[\"Percentage of missing values(%)\"]=round((missing_df[\"Num missing values\"]/len( df))*100,2)\n",
    "missing_df"
   ]
  },
  {
   "cell_type": "markdown",
   "id": "f656e380",
   "metadata": {
    "papermill": {
     "duration": 0.008131,
     "end_time": "2025-01-28T17:08:55.257545",
     "exception": false,
     "start_time": "2025-01-28T17:08:55.249414",
     "status": "completed"
    },
    "tags": []
   },
   "source": [
    "## Dropping columns with more than 50% data missing"
   ]
  },
  {
   "cell_type": "code",
   "execution_count": 20,
   "id": "6cbc226b",
   "metadata": {
    "execution": {
     "iopub.execute_input": "2025-01-28T17:08:55.275688Z",
     "iopub.status.busy": "2025-01-28T17:08:55.275314Z",
     "iopub.status.idle": "2025-01-28T17:08:55.280985Z",
     "shell.execute_reply": "2025-01-28T17:08:55.280020Z"
    },
    "papermill": {
     "duration": 0.016395,
     "end_time": "2025-01-28T17:08:55.282594",
     "exception": false,
     "start_time": "2025-01-28T17:08:55.266199",
     "status": "completed"
    },
    "tags": []
   },
   "outputs": [],
   "source": [
    "df=df.drop(['baths_half','lot_sqft'],axis=1)"
   ]
  },
  {
   "cell_type": "markdown",
   "id": "d5269dbb",
   "metadata": {
    "papermill": {
     "duration": 0.008045,
     "end_time": "2025-01-28T17:08:55.299327",
     "exception": false,
     "start_time": "2025-01-28T17:08:55.291282",
     "status": "completed"
    },
    "tags": []
   },
   "source": [
    "## Imputing Data"
   ]
  },
  {
   "cell_type": "code",
   "execution_count": 21,
   "id": "55eadaef",
   "metadata": {
    "execution": {
     "iopub.execute_input": "2025-01-28T17:08:55.316545Z",
     "iopub.status.busy": "2025-01-28T17:08:55.316162Z",
     "iopub.status.idle": "2025-01-28T17:08:55.549861Z",
     "shell.execute_reply": "2025-01-28T17:08:55.549086Z"
    },
    "papermill": {
     "duration": 0.244132,
     "end_time": "2025-01-28T17:08:55.551629",
     "exception": false,
     "start_time": "2025-01-28T17:08:55.307497",
     "status": "completed"
    },
    "tags": []
   },
   "outputs": [],
   "source": [
    "# Using Knn\n",
    "knn= KNNImputer(n_neighbors=3)  # Use 3 neighbors\n",
    "imputed_data=knn.fit_transform(df)\n",
    "df = pd.DataFrame(imputed_data,columns=df.columns)\n"
   ]
  },
  {
   "cell_type": "code",
   "execution_count": 22,
   "id": "a390bf67",
   "metadata": {
    "execution": {
     "iopub.execute_input": "2025-01-28T17:08:55.570201Z",
     "iopub.status.busy": "2025-01-28T17:08:55.569898Z",
     "iopub.status.idle": "2025-01-28T17:08:55.578548Z",
     "shell.execute_reply": "2025-01-28T17:08:55.577609Z"
    },
    "papermill": {
     "duration": 0.019407,
     "end_time": "2025-01-28T17:08:55.579999",
     "exception": false,
     "start_time": "2025-01-28T17:08:55.560592",
     "status": "completed"
    },
    "tags": []
   },
   "outputs": [
    {
     "data": {
      "text/html": [
       "<div>\n",
       "<style scoped>\n",
       "    .dataframe tbody tr th:only-of-type {\n",
       "        vertical-align: middle;\n",
       "    }\n",
       "\n",
       "    .dataframe tbody tr th {\n",
       "        vertical-align: top;\n",
       "    }\n",
       "\n",
       "    .dataframe thead th {\n",
       "        text-align: right;\n",
       "    }\n",
       "</style>\n",
       "<table border=\"1\" class=\"dataframe\">\n",
       "  <thead>\n",
       "    <tr style=\"text-align: right;\">\n",
       "      <th></th>\n",
       "      <th>Num missing values</th>\n",
       "    </tr>\n",
       "  </thead>\n",
       "  <tbody>\n",
       "    <tr>\n",
       "      <th>type</th>\n",
       "      <td>0</td>\n",
       "    </tr>\n",
       "    <tr>\n",
       "      <th>year_built</th>\n",
       "      <td>0</td>\n",
       "    </tr>\n",
       "    <tr>\n",
       "      <th>beds</th>\n",
       "      <td>0</td>\n",
       "    </tr>\n",
       "    <tr>\n",
       "      <th>baths</th>\n",
       "      <td>0</td>\n",
       "    </tr>\n",
       "    <tr>\n",
       "      <th>baths_full</th>\n",
       "      <td>0</td>\n",
       "    </tr>\n",
       "    <tr>\n",
       "      <th>garage</th>\n",
       "      <td>0</td>\n",
       "    </tr>\n",
       "    <tr>\n",
       "      <th>sqft</th>\n",
       "      <td>0</td>\n",
       "    </tr>\n",
       "    <tr>\n",
       "      <th>stories</th>\n",
       "      <td>0</td>\n",
       "    </tr>\n",
       "    <tr>\n",
       "      <th>lastSoldPrice</th>\n",
       "      <td>0</td>\n",
       "    </tr>\n",
       "    <tr>\n",
       "      <th>listPrice</th>\n",
       "      <td>0</td>\n",
       "    </tr>\n",
       "    <tr>\n",
       "      <th>status</th>\n",
       "      <td>0</td>\n",
       "    </tr>\n",
       "    <tr>\n",
       "      <th>soldOn_year</th>\n",
       "      <td>0</td>\n",
       "    </tr>\n",
       "    <tr>\n",
       "      <th>soldOn_month</th>\n",
       "      <td>0</td>\n",
       "    </tr>\n",
       "    <tr>\n",
       "      <th>soldOn_day</th>\n",
       "      <td>0</td>\n",
       "    </tr>\n",
       "    <tr>\n",
       "      <th>soldOn_weekday</th>\n",
       "      <td>0</td>\n",
       "    </tr>\n",
       "  </tbody>\n",
       "</table>\n",
       "</div>"
      ],
      "text/plain": [
       "                Num missing values\n",
       "type                             0\n",
       "year_built                       0\n",
       "beds                             0\n",
       "baths                            0\n",
       "baths_full                       0\n",
       "garage                           0\n",
       "sqft                             0\n",
       "stories                          0\n",
       "lastSoldPrice                    0\n",
       "listPrice                        0\n",
       "status                           0\n",
       "soldOn_year                      0\n",
       "soldOn_month                     0\n",
       "soldOn_day                       0\n",
       "soldOn_weekday                   0"
      ]
     },
     "execution_count": 22,
     "metadata": {},
     "output_type": "execute_result"
    }
   ],
   "source": [
    "#Checking null counts\n",
    "df.isnull().sum().to_frame().rename(columns={0:\"Num missing values\"})"
   ]
  },
  {
   "cell_type": "code",
   "execution_count": 23,
   "id": "38e7e84b",
   "metadata": {
    "execution": {
     "iopub.execute_input": "2025-01-28T17:08:55.598768Z",
     "iopub.status.busy": "2025-01-28T17:08:55.598410Z",
     "iopub.status.idle": "2025-01-28T17:08:55.637630Z",
     "shell.execute_reply": "2025-01-28T17:08:55.636608Z"
    },
    "papermill": {
     "duration": 0.050463,
     "end_time": "2025-01-28T17:08:55.639170",
     "exception": false,
     "start_time": "2025-01-28T17:08:55.588707",
     "status": "completed"
    },
    "tags": []
   },
   "outputs": [
    {
     "data": {
      "text/html": [
       "<div>\n",
       "<style scoped>\n",
       "    .dataframe tbody tr th:only-of-type {\n",
       "        vertical-align: middle;\n",
       "    }\n",
       "\n",
       "    .dataframe tbody tr th {\n",
       "        vertical-align: top;\n",
       "    }\n",
       "\n",
       "    .dataframe thead th {\n",
       "        text-align: right;\n",
       "    }\n",
       "</style>\n",
       "<table border=\"1\" class=\"dataframe\">\n",
       "  <thead>\n",
       "    <tr style=\"text-align: right;\">\n",
       "      <th></th>\n",
       "      <th>type</th>\n",
       "      <th>year_built</th>\n",
       "      <th>beds</th>\n",
       "      <th>baths</th>\n",
       "      <th>baths_full</th>\n",
       "      <th>garage</th>\n",
       "      <th>sqft</th>\n",
       "      <th>stories</th>\n",
       "      <th>lastSoldPrice</th>\n",
       "      <th>listPrice</th>\n",
       "      <th>status</th>\n",
       "      <th>soldOn_year</th>\n",
       "      <th>soldOn_month</th>\n",
       "      <th>soldOn_day</th>\n",
       "      <th>soldOn_weekday</th>\n",
       "    </tr>\n",
       "  </thead>\n",
       "  <tbody>\n",
       "    <tr>\n",
       "      <th>count</th>\n",
       "      <td>2000.000000</td>\n",
       "      <td>2000.000000</td>\n",
       "      <td>2000.000000</td>\n",
       "      <td>2000.000000</td>\n",
       "      <td>2000.000000</td>\n",
       "      <td>2000.000000</td>\n",
       "      <td>2000.000000</td>\n",
       "      <td>2000.000000</td>\n",
       "      <td>2.000000e+03</td>\n",
       "      <td>2.000000e+03</td>\n",
       "      <td>2000.000000</td>\n",
       "      <td>2000.00000</td>\n",
       "      <td>2000.000000</td>\n",
       "      <td>2000.000000</td>\n",
       "      <td>2000.000000</td>\n",
       "    </tr>\n",
       "    <tr>\n",
       "      <th>mean</th>\n",
       "      <td>3.406500</td>\n",
       "      <td>1944.666500</td>\n",
       "      <td>3.317333</td>\n",
       "      <td>2.439667</td>\n",
       "      <td>2.144667</td>\n",
       "      <td>2.130833</td>\n",
       "      <td>1991.963500</td>\n",
       "      <td>6.865333</td>\n",
       "      <td>3.137683e+05</td>\n",
       "      <td>6.001534e+05</td>\n",
       "      <td>0.999500</td>\n",
       "      <td>1997.99800</td>\n",
       "      <td>5.055500</td>\n",
       "      <td>11.281500</td>\n",
       "      <td>2.383500</td>\n",
       "    </tr>\n",
       "    <tr>\n",
       "      <th>std</th>\n",
       "      <td>1.903173</td>\n",
       "      <td>37.541064</td>\n",
       "      <td>1.746820</td>\n",
       "      <td>1.456128</td>\n",
       "      <td>1.094788</td>\n",
       "      <td>9.580486</td>\n",
       "      <td>1510.326574</td>\n",
       "      <td>12.028036</td>\n",
       "      <td>5.312703e+05</td>\n",
       "      <td>1.200769e+06</td>\n",
       "      <td>0.022361</td>\n",
       "      <td>20.28378</td>\n",
       "      <td>3.793628</td>\n",
       "      <td>10.160456</td>\n",
       "      <td>1.243865</td>\n",
       "    </tr>\n",
       "    <tr>\n",
       "      <th>min</th>\n",
       "      <td>0.000000</td>\n",
       "      <td>1856.000000</td>\n",
       "      <td>0.000000</td>\n",
       "      <td>0.000000</td>\n",
       "      <td>1.000000</td>\n",
       "      <td>1.000000</td>\n",
       "      <td>372.000000</td>\n",
       "      <td>1.000000</td>\n",
       "      <td>6.000000e+02</td>\n",
       "      <td>1.500000e+02</td>\n",
       "      <td>0.000000</td>\n",
       "      <td>1970.00000</td>\n",
       "      <td>1.000000</td>\n",
       "      <td>1.000000</td>\n",
       "      <td>0.000000</td>\n",
       "    </tr>\n",
       "    <tr>\n",
       "      <th>25%</th>\n",
       "      <td>1.000000</td>\n",
       "      <td>1917.000000</td>\n",
       "      <td>2.000000</td>\n",
       "      <td>2.000000</td>\n",
       "      <td>1.000000</td>\n",
       "      <td>1.333333</td>\n",
       "      <td>1200.000000</td>\n",
       "      <td>2.000000</td>\n",
       "      <td>1.128750e+05</td>\n",
       "      <td>2.250000e+05</td>\n",
       "      <td>1.000000</td>\n",
       "      <td>1970.00000</td>\n",
       "      <td>1.000000</td>\n",
       "      <td>1.000000</td>\n",
       "      <td>1.000000</td>\n",
       "    </tr>\n",
       "    <tr>\n",
       "      <th>50%</th>\n",
       "      <td>5.000000</td>\n",
       "      <td>1937.166667</td>\n",
       "      <td>3.000000</td>\n",
       "      <td>2.000000</td>\n",
       "      <td>2.000000</td>\n",
       "      <td>2.000000</td>\n",
       "      <td>1550.666667</td>\n",
       "      <td>2.666667</td>\n",
       "      <td>1.765833e+05</td>\n",
       "      <td>3.498000e+05</td>\n",
       "      <td>1.000000</td>\n",
       "      <td>2004.00000</td>\n",
       "      <td>5.000000</td>\n",
       "      <td>9.000000</td>\n",
       "      <td>3.000000</td>\n",
       "    </tr>\n",
       "    <tr>\n",
       "      <th>75%</th>\n",
       "      <td>5.000000</td>\n",
       "      <td>1968.000000</td>\n",
       "      <td>4.000000</td>\n",
       "      <td>3.000000</td>\n",
       "      <td>3.000000</td>\n",
       "      <td>2.000000</td>\n",
       "      <td>2276.083333</td>\n",
       "      <td>4.000000</td>\n",
       "      <td>3.350000e+05</td>\n",
       "      <td>5.750000e+05</td>\n",
       "      <td>1.000000</td>\n",
       "      <td>2017.00000</td>\n",
       "      <td>8.000000</td>\n",
       "      <td>20.000000</td>\n",
       "      <td>3.000000</td>\n",
       "    </tr>\n",
       "    <tr>\n",
       "      <th>max</th>\n",
       "      <td>6.000000</td>\n",
       "      <td>2024.000000</td>\n",
       "      <td>21.000000</td>\n",
       "      <td>13.000000</td>\n",
       "      <td>8.000000</td>\n",
       "      <td>400.000000</td>\n",
       "      <td>25000.000000</td>\n",
       "      <td>119.000000</td>\n",
       "      <td>7.500000e+06</td>\n",
       "      <td>2.350000e+07</td>\n",
       "      <td>1.000000</td>\n",
       "      <td>2024.00000</td>\n",
       "      <td>12.000000</td>\n",
       "      <td>31.000000</td>\n",
       "      <td>6.000000</td>\n",
       "    </tr>\n",
       "  </tbody>\n",
       "</table>\n",
       "</div>"
      ],
      "text/plain": [
       "              type   year_built         beds        baths   baths_full  \\\n",
       "count  2000.000000  2000.000000  2000.000000  2000.000000  2000.000000   \n",
       "mean      3.406500  1944.666500     3.317333     2.439667     2.144667   \n",
       "std       1.903173    37.541064     1.746820     1.456128     1.094788   \n",
       "min       0.000000  1856.000000     0.000000     0.000000     1.000000   \n",
       "25%       1.000000  1917.000000     2.000000     2.000000     1.000000   \n",
       "50%       5.000000  1937.166667     3.000000     2.000000     2.000000   \n",
       "75%       5.000000  1968.000000     4.000000     3.000000     3.000000   \n",
       "max       6.000000  2024.000000    21.000000    13.000000     8.000000   \n",
       "\n",
       "            garage          sqft      stories  lastSoldPrice     listPrice  \\\n",
       "count  2000.000000   2000.000000  2000.000000   2.000000e+03  2.000000e+03   \n",
       "mean      2.130833   1991.963500     6.865333   3.137683e+05  6.001534e+05   \n",
       "std       9.580486   1510.326574    12.028036   5.312703e+05  1.200769e+06   \n",
       "min       1.000000    372.000000     1.000000   6.000000e+02  1.500000e+02   \n",
       "25%       1.333333   1200.000000     2.000000   1.128750e+05  2.250000e+05   \n",
       "50%       2.000000   1550.666667     2.666667   1.765833e+05  3.498000e+05   \n",
       "75%       2.000000   2276.083333     4.000000   3.350000e+05  5.750000e+05   \n",
       "max     400.000000  25000.000000   119.000000   7.500000e+06  2.350000e+07   \n",
       "\n",
       "            status  soldOn_year  soldOn_month   soldOn_day  soldOn_weekday  \n",
       "count  2000.000000   2000.00000   2000.000000  2000.000000     2000.000000  \n",
       "mean      0.999500   1997.99800      5.055500    11.281500        2.383500  \n",
       "std       0.022361     20.28378      3.793628    10.160456        1.243865  \n",
       "min       0.000000   1970.00000      1.000000     1.000000        0.000000  \n",
       "25%       1.000000   1970.00000      1.000000     1.000000        1.000000  \n",
       "50%       1.000000   2004.00000      5.000000     9.000000        3.000000  \n",
       "75%       1.000000   2017.00000      8.000000    20.000000        3.000000  \n",
       "max       1.000000   2024.00000     12.000000    31.000000        6.000000  "
      ]
     },
     "execution_count": 23,
     "metadata": {},
     "output_type": "execute_result"
    }
   ],
   "source": [
    "df.describe()"
   ]
  },
  {
   "cell_type": "markdown",
   "id": "398729d1",
   "metadata": {
    "papermill": {
     "duration": 0.008657,
     "end_time": "2025-01-28T17:08:55.657228",
     "exception": false,
     "start_time": "2025-01-28T17:08:55.648571",
     "status": "completed"
    },
    "tags": []
   },
   "source": [
    "# EDA"
   ]
  },
  {
   "cell_type": "code",
   "execution_count": 24,
   "id": "88c8ba73",
   "metadata": {
    "execution": {
     "iopub.execute_input": "2025-01-28T17:08:55.676243Z",
     "iopub.status.busy": "2025-01-28T17:08:55.675872Z",
     "iopub.status.idle": "2025-01-28T17:08:58.352666Z",
     "shell.execute_reply": "2025-01-28T17:08:58.351590Z"
    },
    "papermill": {
     "duration": 2.690004,
     "end_time": "2025-01-28T17:08:58.356188",
     "exception": false,
     "start_time": "2025-01-28T17:08:55.666184",
     "status": "completed"
    },
    "tags": []
   },
   "outputs": [
    {
     "data": {
      "image/png": "[encoded data removed]",
      "text/plain": [
       "<Figure size 2000x1500 with 16 Axes>"
      ]
     },
     "metadata": {},
     "output_type": "display_data"
    }
   ],
   "source": [
    "df.hist(figsize=(20, 15))\n",
    "plt.suptitle('Histograms of DataFrame Columns', fontsize=16)\n",
    "plt.show()"
   ]
  },
  {
   "cell_type": "code",
   "execution_count": 25,
   "id": "34ec3660",
   "metadata": {
    "execution": {
     "iopub.execute_input": "2025-01-28T17:08:58.382641Z",
     "iopub.status.busy": "2025-01-28T17:08:58.382231Z",
     "iopub.status.idle": "2025-01-28T17:08:58.388324Z",
     "shell.execute_reply": "2025-01-28T17:08:58.387270Z"
    },
    "papermill": {
     "duration": 0.021488,
     "end_time": "2025-01-28T17:08:58.390240",
     "exception": false,
     "start_time": "2025-01-28T17:08:58.368752",
     "status": "completed"
    },
    "tags": []
   },
   "outputs": [
    {
     "data": {
      "text/plain": [
       "Index(['year_built', 'beds', 'baths', 'baths_full', 'baths_half', 'garage',\n",
       "       'lot_sqft', 'sqft', 'stories', 'lastSoldPrice', 'listPrice'],\n",
       "      dtype='object')"
      ]
     },
     "execution_count": 25,
     "metadata": {},
     "output_type": "execute_result"
    }
   ],
   "source": [
    "numerical_cols"
   ]
  },
  {
   "cell_type": "code",
   "execution_count": 26,
   "id": "7f5ab2e4",
   "metadata": {
    "execution": {
     "iopub.execute_input": "2025-01-28T17:08:58.416571Z",
     "iopub.status.busy": "2025-01-28T17:08:58.416179Z",
     "iopub.status.idle": "2025-01-28T17:08:58.420555Z",
     "shell.execute_reply": "2025-01-28T17:08:58.419547Z"
    },
    "papermill": {
     "duration": 0.019206,
     "end_time": "2025-01-28T17:08:58.422062",
     "exception": false,
     "start_time": "2025-01-28T17:08:58.402856",
     "status": "completed"
    },
    "tags": []
   },
   "outputs": [],
   "source": [
    "numerical_cols = numerical_cols.tolist()\n",
    "numerical_cols.remove('baths_half')\n",
    "numerical_cols.remove('lot_sqft')"
   ]
  },
  {
   "cell_type": "markdown",
   "id": "3bf5e487",
   "metadata": {
    "papermill": {
     "duration": 0.012088,
     "end_time": "2025-01-28T17:08:58.446777",
     "exception": false,
     "start_time": "2025-01-28T17:08:58.434689",
     "status": "completed"
    },
    "tags": []
   },
   "source": []
  },
  {
   "cell_type": "code",
   "execution_count": 27,
   "id": "67ce20bf",
   "metadata": {
    "execution": {
     "iopub.execute_input": "2025-01-28T17:08:58.472344Z",
     "iopub.status.busy": "2025-01-28T17:08:58.472011Z",
     "iopub.status.idle": "2025-01-28T17:08:59.721077Z",
     "shell.execute_reply": "2025-01-28T17:08:59.719812Z"
    },
    "papermill": {
     "duration": 1.264085,
     "end_time": "2025-01-28T17:08:59.723001",
     "exception": false,
     "start_time": "2025-01-28T17:08:58.458916",
     "status": "completed"
    },
    "tags": []
   },
   "outputs": [
    {
     "data": {
      "image/png": "[encoded data removed]",
      "text/plain": [
       "<Figure size 1000x600 with 1 Axes>"
      ]
     },
     "metadata": {},
     "output_type": "display_data"
    },
    {
     "data": {
      "image/png": "[encoded data removed]",
      "text/plain": [
       "<Figure size 1000x600 with 1 Axes>"
      ]
     },
     "metadata": {},
     "output_type": "display_data"
    },
    {
     "data": {
      "image/png": "[encoded data removed]",
      "text/plain": [
       "<Figure size 1000x600 with 1 Axes>"
      ]
     },
     "metadata": {},
     "output_type": "display_data"
    },
    {
     "data": {
      "image/png": "[encoded data removed]",
      "text/plain": [
       "<Figure size 1000x600 with 1 Axes>"
      ]
     },
     "metadata": {},
     "output_type": "display_data"
    },
    {
     "data": {
      "image/png": "[encoded data removed]",
      "text/plain": [
       "<Figure size 1000x600 with 1 Axes>"
      ]
     },
     "metadata": {},
     "output_type": "display_data"
    },
    {
     "data": {
      "image/png": "[encoded data removed]",
      "text/plain": [
       "<Figure size 1000x600 with 1 Axes>"
      ]
     },
     "metadata": {},
     "output_type": "display_data"
    },
    {
     "data": {
      "image/png": "[encoded data removed]",
      "text/plain": [
       "<Figure size 1000x600 with 1 Axes>"
      ]
     },
     "metadata": {},
     "output_type": "display_data"
    },
    {
     "data": {
      "image/png": "[encoded data removed]",
      "text/plain": [
       "<Figure size 1000x600 with 1 Axes>"
      ]
     },
     "metadata": {},
     "output_type": "display_data"
    },
    {
     "data": {
      "image/png": "[encoded data removed]",
      "text/plain": [
       "<Figure size 1000x600 with 1 Axes>"
      ]
     },
     "metadata": {},
     "output_type": "display_data"
    }
   ],
   "source": [
    "for col in numerical_cols:\n",
    "    plt.figure(figsize=(10, 6))\n",
    "    sns.boxplot(x=df[col])\n",
    "    plt.title(f'Boxplot of {col}')\n",
    "    plt.show()\n"
   ]
  },
  {
   "cell_type": "markdown",
   "id": "9f1d1df8",
   "metadata": {
    "papermill": {
     "duration": 0.015749,
     "end_time": "2025-01-28T17:08:59.755361",
     "exception": false,
     "start_time": "2025-01-28T17:08:59.739612",
     "status": "completed"
    },
    "tags": []
   },
   "source": [
    "# Training"
   ]
  },
  {
   "cell_type": "markdown",
   "id": "424ebca5",
   "metadata": {
    "papermill": {
     "duration": 0.014394,
     "end_time": "2025-01-28T17:08:59.784730",
     "exception": false,
     "start_time": "2025-01-28T17:08:59.770336",
     "status": "completed"
    },
    "tags": []
   },
   "source": [
    "## Splitting Dataset into train/test split"
   ]
  },
  {
   "cell_type": "code",
   "execution_count": 28,
   "id": "adcd08c0",
   "metadata": {
    "execution": {
     "iopub.execute_input": "2025-01-28T17:08:59.815288Z",
     "iopub.status.busy": "2025-01-28T17:08:59.814963Z",
     "iopub.status.idle": "2025-01-28T17:08:59.819506Z",
     "shell.execute_reply": "2025-01-28T17:08:59.818729Z"
    },
    "papermill": {
     "duration": 0.021583,
     "end_time": "2025-01-28T17:08:59.820774",
     "exception": false,
     "start_time": "2025-01-28T17:08:59.799191",
     "status": "completed"
    },
    "tags": []
   },
   "outputs": [],
   "source": [
    "y=df['listPrice']\n",
    "X=df.drop('listPrice',axis=1)"
   ]
  },
  {
   "cell_type": "code",
   "execution_count": 29,
   "id": "b3529b3a",
   "metadata": {
    "execution": {
     "iopub.execute_input": "2025-01-28T17:08:59.851648Z",
     "iopub.status.busy": "2025-01-28T17:08:59.851282Z",
     "iopub.status.idle": "2025-01-28T17:08:59.859550Z",
     "shell.execute_reply": "2025-01-28T17:08:59.858543Z"
    },
    "papermill": {
     "duration": 0.025638,
     "end_time": "2025-01-28T17:08:59.861157",
     "exception": false,
     "start_time": "2025-01-28T17:08:59.835519",
     "status": "completed"
    },
    "tags": []
   },
   "outputs": [
    {
     "name": "stdout",
     "output_type": "stream",
     "text": [
      "(1400, 14)\n",
      "(600, 14)\n",
      "(1400,)\n",
      "(600,)\n"
     ]
    }
   ],
   "source": [
    "X_train, X_test, y_train, y_test = train_test_split(X, y, random_state=42, shuffle=True, test_size=0.3)\n",
    "\n",
    "# Confirm how the data was split\n",
    "print(X_train.shape)\n",
    "print(X_test.shape)\n",
    "print(y_train.shape)\n",
    "print(y_test.shape)"
   ]
  },
  {
   "cell_type": "code",
   "execution_count": 30,
   "id": "c58ad555",
   "metadata": {
    "execution": {
     "iopub.execute_input": "2025-01-28T17:08:59.892661Z",
     "iopub.status.busy": "2025-01-28T17:08:59.892320Z",
     "iopub.status.idle": "2025-01-28T17:09:01.223930Z",
     "shell.execute_reply": "2025-01-28T17:09:01.220866Z"
    },
    "papermill": {
     "duration": 1.349452,
     "end_time": "2025-01-28T17:09:01.225885",
     "exception": false,
     "start_time": "2025-01-28T17:08:59.876433",
     "status": "completed"
    },
    "tags": []
   },
   "outputs": [
    {
     "name": "stdout",
     "output_type": "stream",
     "text": [
      "Linear Regression Test Accuracy:0.5743818522334188\n",
      "        Actual     Predicted\n",
      "1860  849900.0  5.962783e+05\n",
      "353   550000.0  1.039613e+06\n",
      "1333  475000.0  7.378610e+05\n",
      "905   749000.0  4.658357e+05\n",
      "1289   59900.0 -6.613549e+04\n",
      "...        ...           ...\n",
      "148   295000.0  5.141420e+05\n",
      "1554   95999.0  6.698594e+04\n",
      "1956  725000.0  1.046002e+06\n",
      "925   189500.0 -5.021444e+05\n",
      "942   999900.0  1.132316e+06\n",
      "\n",
      "[600 rows x 2 columns]\n",
      "Random Forest Regressor Test Accuracy:0.7916631544717253\n",
      "        Actual  Predicted\n",
      "1860  849900.0   358400.0\n",
      "353   550000.0   624350.0\n",
      "1333  475000.0   317260.0\n",
      "905   749000.0   621580.0\n",
      "1289   59900.0   184160.0\n",
      "...        ...        ...\n",
      "148   295000.0   297680.0\n",
      "1554   95999.0   109180.0\n",
      "1956  725000.0   746680.0\n",
      "925   189500.0   182070.0\n",
      "942   999900.0   981790.0\n",
      "\n",
      "[600 rows x 2 columns]\n",
      "XGBRegressor Test Accuracy:0.6858105965062264\n",
      "        Actual      Predicted\n",
      "1860  849900.0  306135.875000\n",
      "353   550000.0  549524.500000\n",
      "1333  475000.0  332626.031250\n",
      "905   749000.0  654483.562500\n",
      "1289   59900.0   56449.300781\n",
      "...        ...            ...\n",
      "148   295000.0  289565.843750\n",
      "1554   95999.0   95869.664062\n",
      "1956  725000.0  635316.312500\n",
      "925   189500.0  156798.937500\n",
      "942   999900.0  922081.750000\n",
      "\n",
      "[600 rows x 2 columns]\n"
     ]
    }
   ],
   "source": [
    "from sklearn.pipeline import Pipeline\n",
    "from sklearn.linear_model import LinearRegression\n",
    "from sklearn.ensemble import RandomForestRegressor\n",
    "from xgboost import XGBRegressor\n",
    "\n",
    "\n",
    "pipeline_lr= Pipeline([('lr_classifier', LinearRegression())])\n",
    "pipeline_rf = Pipeline([('rf_classifier', RandomForestRegressor(n_estimators=10,random_state=10))]) \n",
    "pipeline_xgb = Pipeline([('xgb_classifier', XGBRegressor())]) \n",
    "\n",
    "pipelines = [pipeline_lr, pipeline_rf, pipeline_xgb]\n",
    "pipe_dict = {0: 'Linear Regression', 1: 'Random Forest Regressor', 2: 'XGBRegressor'}\n",
    "\n",
    "for pipe in pipelines:\n",
    "    pipe.fit(X_train, y_train)\n",
    "\n",
    "for i,model in enumerate(pipelines):\n",
    "    pred_test = model.predict(X_test)\n",
    "    if i == 1: rf_model = model\n",
    "    print(\"{} Test Accuracy:{}\".format(pipe_dict[i],model.score(X_test,y_test)))\n",
    "    print(pd.DataFrame({'Actual': y_test, 'Predicted': pred_test}))"
   ]
  },
  {
   "cell_type": "code",
   "execution_count": 31,
   "id": "03b9d54c",
   "metadata": {
    "execution": {
     "iopub.execute_input": "2025-01-28T17:09:01.264137Z",
     "iopub.status.busy": "2025-01-28T17:09:01.263660Z",
     "iopub.status.idle": "2025-01-28T17:09:01.447910Z",
     "shell.execute_reply": "2025-01-28T17:09:01.446693Z"
    },
    "papermill": {
     "duration": 0.202994,
     "end_time": "2025-01-28T17:09:01.449794",
     "exception": false,
     "start_time": "2025-01-28T17:09:01.246800",
     "status": "completed"
    },
    "tags": []
   },
   "outputs": [
    {
     "data": {
      "image/png": "[encoded data removed]",
      "text/plain": [
       "<Figure size 1000x500 with 1 Axes>"
      ]
     },
     "metadata": {},
     "output_type": "display_data"
    }
   ],
   "source": [
    "plt.figure(figsize=(10,5))\n",
    "feat_importances = pd.Series(rf_model['rf_classifier'].feature_importances_, index = X_train.columns)\n",
    "feat_importances.nlargest(5).plot(kind='barh');"
   ]
  }
 ],
 "metadata": {
  "kaggle": {
   "accelerator": "none",
   "dataSources": [
    {
     "datasetId": 4981627,
     "sourceId": 8377763,
     "sourceType": "datasetVersion"
    }
   ],
   "dockerImageVersionId": 30839,
   "isGpuEnabled": false,
   "isInternetEnabled": false,
   "language": "python",
   "sourceType": "notebook"
  },
  "kernelspec": {
   "display_name": "Python 3",
   "language": "python",
   "name": "python3"
  },
  "language_info": {
   "codemirror_mode": {
    "name": "ipython",
    "version": 3
   },
   "file_extension": ".py",
   "mimetype": "text/x-python",
   "name": "python",
   "nbconvert_exporter": "python",
   "pygments_lexer": "ipython3",
   "version": "3.10.12"
  },
  "papermill": {
   "default_parameters": {},
   "duration": 12.978056,
   "end_time": "2025-01-28T17:09:02.186318",
   "environment_variables": {},
   "exception": null,
   "input_path": "__notebook__.ipynb",
   "output_path": "__notebook__.ipynb",
   "parameters": {},
   "start_time": "2025-01-28T17:08:49.208262",
   "version": "2.6.0"
  }
 },
 "nbformat": 4,
 "nbformat_minor": 5
}
